{
 "cells": [
  {
   "cell_type": "markdown",
   "id": "97810080-6fec-4b6c-90c1-50c86a976ff7",
   "metadata": {},
   "source": [
    "# pysr tutorial, from cosine to rate state friction\n",
    "\n",
    "In this tutorial we are going to go through first steps of symbolic regression using `pysr`. First we will use a basic example for a cosine function. Then we will use a rate and state friction model. Along the way we will explain how pysr arrives at the functional solution.\n",
    "\n",
    "Some of this comes from the original tutorial provided by `pysr` which can be found on google colab:\n",
    "\n",
    "https://colab.research.google.com/github/MilesCranmer/PySR/blob/master/examples/pysr_demo.ipynb#scrollTo=4nDAAnisdhTc"
   ]
  },
  {
   "cell_type": "code",
   "execution_count": 2,
   "id": "0cec2d79-7ff8-4518-b910-5eb355bce72f",
   "metadata": {},
   "outputs": [],
   "source": [
    "%matplotlib inline\n",
    "import matplotlib.pyplot as plt\n",
    "import numpy as np\n",
    "from pysr import PySRRegressor\n",
    "from sklearn.model_selection import train_test_split"
   ]
  },
  {
   "cell_type": "code",
   "execution_count": 3,
   "id": "d4674bc9-9d1f-4e08-b78e-040d01ee01f7",
   "metadata": {},
   "outputs": [],
   "source": [
    "# Dataset\n",
    "np.random.seed(0)\n",
    "X = 2 * np.random.randn(100, 5)\n",
    "x3 = X[:, 3]\n",
    "x0 = X[:, 0]\n",
    "# y = 2.5382 * np.cos(X[:, 3]) + X[:, 0] ** 2 - 2\n",
    "y = 2.5382 * np.cos(x3) + x0 ** 2 - 2"
   ]
  },
  {
   "cell_type": "markdown",
   "id": "ca37f89a-8cb8-42b6-8701-5d7d7c97c6ef",
   "metadata": {},
   "source": [
    "# explanation how the model works\n",
    "\n",
    "Below we create a dictionary of the paramaters we want to use in the model.\n",
    "\n",
    "By default, `populations=15`, but you can set a different number of populations with this option. More populations may increase the diversity of equations discovered, though will take longer to train. However, it is usually more efficient to have `populations>procs`, as there are multiple populations running on each core.\n",
    "\n",
    "By default, PySRRegressor uses `model_selection='best'` which selects an equation from `PySRRegressor.equations_` using a combination of accuracy and complexity. You can also select `model_selection='accuracy'`.\n",
    "\n",
    "* How is accuracy calculated?\n",
    "* How is complexity calculated?"
   ]
  },
  {
   "cell_type": "code",
   "execution_count": 4,
   "id": "f2cc6606-ee22-4d6b-8cc1-7d2af70677a5",
   "metadata": {},
   "outputs": [],
   "source": [
    "default_pysr_params = dict(\n",
    "    populations=30, # https://astroautomata.com/PySR/options/#populations\n",
    "    model_selection=\"best\",\n",
    ")"
   ]
  },
  {
   "cell_type": "markdown",
   "id": "95d9c282-540c-43e0-99e2-3b347730b6f4",
   "metadata": {},
   "source": [
    "Now we can fit the model. The process works essentially the same as a `sklearn` model. First you create the model object with it's set of hyperparameters. Then you fit the model. Keep in mind that unlike `sklearn`, which is creating a single model, a `PySR` model is technically an ensemble of linear regression models (in the statistical sense, that is, a linear combination of variables as opposed to, for example, a decision tree).\n",
    "\n",
    "`PySR` can run for arbitrarily long, and continue to find more and more accurate expressions. You can set the total number of cycles of evolution with `niterations`, although there are also a few more ways to stop execution.\n",
    "\n",
    "Binary operators are operators that include any form of combination, such as `A + B` or `A * B`. https://en.wikipedia.org/wiki/Binary_operation\n",
    "\n",
    "Unary operators are operators that perform a transformation, as as `sin(x)` or `abs(x)` or `-(x)`.\n",
    "\n",
    "Note, if operators are not included then they will not be selected for use in the regressor. For example, if you leave out `cos`, the regressor will not be able to try applying a `cos` function in the equations it attempts."
   ]
  },
  {
   "cell_type": "code",
   "execution_count": 5,
   "id": "77508e3a-9189-47c6-bb37-6da03cddd03e",
   "metadata": {},
   "outputs": [
    {
     "name": "stderr",
     "output_type": "stream",
     "text": [
      "/opt/homebrew/anaconda3/envs/symbol/lib/python3.8/site-packages/pysr/sr.py:1296: UserWarning: Note: it looks like you are running in Jupyter. The progress bar will be turned off.\n",
      "  warnings.warn(\n",
      "/opt/homebrew/anaconda3/envs/symbol/lib/python3.8/site-packages/pysr/julia_helpers.py:197: UserWarning: Your system's Python library is static (e.g., conda), so precompilation will be turned off. For a dynamic library, try `pyenv`.\n",
      "  warnings.warn(\n"
     ]
    },
    {
     "name": "stdout",
     "output_type": "stream",
     "text": [
      "Started!\n"
     ]
    },
    {
     "data": {
      "text/html": [
       "<style>#sk-container-id-1 {color: black;background-color: white;}#sk-container-id-1 pre{padding: 0;}#sk-container-id-1 div.sk-toggleable {background-color: white;}#sk-container-id-1 label.sk-toggleable__label {cursor: pointer;display: block;width: 100%;margin-bottom: 0;padding: 0.3em;box-sizing: border-box;text-align: center;}#sk-container-id-1 label.sk-toggleable__label-arrow:before {content: \"▸\";float: left;margin-right: 0.25em;color: #696969;}#sk-container-id-1 label.sk-toggleable__label-arrow:hover:before {color: black;}#sk-container-id-1 div.sk-estimator:hover label.sk-toggleable__label-arrow:before {color: black;}#sk-container-id-1 div.sk-toggleable__content {max-height: 0;max-width: 0;overflow: hidden;text-align: left;background-color: #f0f8ff;}#sk-container-id-1 div.sk-toggleable__content pre {margin: 0.2em;color: black;border-radius: 0.25em;background-color: #f0f8ff;}#sk-container-id-1 input.sk-toggleable__control:checked~div.sk-toggleable__content {max-height: 200px;max-width: 100%;overflow: auto;}#sk-container-id-1 input.sk-toggleable__control:checked~label.sk-toggleable__label-arrow:before {content: \"▾\";}#sk-container-id-1 div.sk-estimator input.sk-toggleable__control:checked~label.sk-toggleable__label {background-color: #d4ebff;}#sk-container-id-1 div.sk-label input.sk-toggleable__control:checked~label.sk-toggleable__label {background-color: #d4ebff;}#sk-container-id-1 input.sk-hidden--visually {border: 0;clip: rect(1px 1px 1px 1px);clip: rect(1px, 1px, 1px, 1px);height: 1px;margin: -1px;overflow: hidden;padding: 0;position: absolute;width: 1px;}#sk-container-id-1 div.sk-estimator {font-family: monospace;background-color: #f0f8ff;border: 1px dotted black;border-radius: 0.25em;box-sizing: border-box;margin-bottom: 0.5em;}#sk-container-id-1 div.sk-estimator:hover {background-color: #d4ebff;}#sk-container-id-1 div.sk-parallel-item::after {content: \"\";width: 100%;border-bottom: 1px solid gray;flex-grow: 1;}#sk-container-id-1 div.sk-label:hover label.sk-toggleable__label {background-color: #d4ebff;}#sk-container-id-1 div.sk-serial::before {content: \"\";position: absolute;border-left: 1px solid gray;box-sizing: border-box;top: 0;bottom: 0;left: 50%;z-index: 0;}#sk-container-id-1 div.sk-serial {display: flex;flex-direction: column;align-items: center;background-color: white;padding-right: 0.2em;padding-left: 0.2em;position: relative;}#sk-container-id-1 div.sk-item {position: relative;z-index: 1;}#sk-container-id-1 div.sk-parallel {display: flex;align-items: stretch;justify-content: center;background-color: white;position: relative;}#sk-container-id-1 div.sk-item::before, #sk-container-id-1 div.sk-parallel-item::before {content: \"\";position: absolute;border-left: 1px solid gray;box-sizing: border-box;top: 0;bottom: 0;left: 50%;z-index: -1;}#sk-container-id-1 div.sk-parallel-item {display: flex;flex-direction: column;z-index: 1;position: relative;background-color: white;}#sk-container-id-1 div.sk-parallel-item:first-child::after {align-self: flex-end;width: 50%;}#sk-container-id-1 div.sk-parallel-item:last-child::after {align-self: flex-start;width: 50%;}#sk-container-id-1 div.sk-parallel-item:only-child::after {width: 0;}#sk-container-id-1 div.sk-dashed-wrapped {border: 1px dashed gray;margin: 0 0.4em 0.5em 0.4em;box-sizing: border-box;padding-bottom: 0.4em;background-color: white;}#sk-container-id-1 div.sk-label label {font-family: monospace;font-weight: bold;display: inline-block;line-height: 1.2em;}#sk-container-id-1 div.sk-label-container {text-align: center;}#sk-container-id-1 div.sk-container {/* jupyter's `normalize.less` sets `[hidden] { display: none; }` but bootstrap.min.css set `[hidden] { display: none !important; }` so we also need the `!important` here to be able to override the default hidden behavior on the sphinx rendered scikit-learn.org. See: https://github.com/scikit-learn/scikit-learn/issues/21755 */display: inline-block !important;position: relative;}#sk-container-id-1 div.sk-text-repr-fallback {display: none;}</style><div id=\"sk-container-id-1\" class=\"sk-top-container\"><div class=\"sk-text-repr-fallback\"><pre>PySRRegressor.equations_ = [\n",
       "\t   pick      score                                   equation          loss  \\\n",
       "\t0         0.000000                                   2.354772  3.360272e+01   \n",
       "\t1         0.850855                                  (x0 * x0)  6.128181e+00   \n",
       "\t2         0.349618                   ((x0 * x0) + -1.7557565)  3.045492e+00   \n",
       "\t3         0.002620     (((x0 * x0) + -1.7020328) * 0.9776975)  3.029573e+00   \n",
       "\t4         0.996444       ((cos(x3) + (x0 * x0)) + -1.8519837)  1.118488e+00   \n",
       "\t5         0.161678   ((-3.119208 + (x0 * x0)) + exp(cos(x3)))  9.515150e-01   \n",
       "\t6  &gt;&gt;&gt;&gt;  29.066350  ((x0 * x0) + (-2.0 + (cos(x3) * 2.5382)))  2.264958e-13   \n",
       "\t\n",
       "\t   complexity  \n",
       "\t0           1  \n",
       "\t1           3  \n",
       "\t2           5  \n",
       "\t3           7  \n",
       "\t4           8  \n",
       "\t5           9  \n",
       "\t6          10  \n",
       "]</pre><b>In a Jupyter environment, please rerun this cell to show the HTML representation or trust the notebook. <br />On GitHub, the HTML representation is unable to render, please try loading this page with nbviewer.org.</b></div><div class=\"sk-container\" hidden><div class=\"sk-item\"><div class=\"sk-estimator sk-toggleable\"><input class=\"sk-toggleable__control sk-hidden--visually\" id=\"sk-estimator-id-1\" type=\"checkbox\" checked><label for=\"sk-estimator-id-1\" class=\"sk-toggleable__label sk-toggleable__label-arrow\">PySRRegressor</label><div class=\"sk-toggleable__content\"><pre>PySRRegressor.equations_ = [\n",
       "\t   pick      score                                   equation          loss  \\\n",
       "\t0         0.000000                                   2.354772  3.360272e+01   \n",
       "\t1         0.850855                                  (x0 * x0)  6.128181e+00   \n",
       "\t2         0.349618                   ((x0 * x0) + -1.7557565)  3.045492e+00   \n",
       "\t3         0.002620     (((x0 * x0) + -1.7020328) * 0.9776975)  3.029573e+00   \n",
       "\t4         0.996444       ((cos(x3) + (x0 * x0)) + -1.8519837)  1.118488e+00   \n",
       "\t5         0.161678   ((-3.119208 + (x0 * x0)) + exp(cos(x3)))  9.515150e-01   \n",
       "\t6  &gt;&gt;&gt;&gt;  29.066350  ((x0 * x0) + (-2.0 + (cos(x3) * 2.5382)))  2.264958e-13   \n",
       "\t\n",
       "\t   complexity  \n",
       "\t0           1  \n",
       "\t1           3  \n",
       "\t2           5  \n",
       "\t3           7  \n",
       "\t4           8  \n",
       "\t5           9  \n",
       "\t6          10  \n",
       "]</pre></div></div></div></div></div>"
      ],
      "text/plain": [
       "PySRRegressor.equations_ = [\n",
       "\t   pick      score                                   equation          loss  \\\n",
       "\t0         0.000000                                   2.354772  3.360272e+01   \n",
       "\t1         0.850855                                  (x0 * x0)  6.128181e+00   \n",
       "\t2         0.349618                   ((x0 * x0) + -1.7557565)  3.045492e+00   \n",
       "\t3         0.002620     (((x0 * x0) + -1.7020328) * 0.9776975)  3.029573e+00   \n",
       "\t4         0.996444       ((cos(x3) + (x0 * x0)) + -1.8519837)  1.118488e+00   \n",
       "\t5         0.161678   ((-3.119208 + (x0 * x0)) + exp(cos(x3)))  9.515150e-01   \n",
       "\t6  >>>>  29.066350  ((x0 * x0) + (-2.0 + (cos(x3) * 2.5382)))  2.264958e-13   \n",
       "\t\n",
       "\t   complexity  \n",
       "\t0           1  \n",
       "\t1           3  \n",
       "\t2           5  \n",
       "\t3           7  \n",
       "\t4           8  \n",
       "\t5           9  \n",
       "\t6          10  \n",
       "]"
      ]
     },
     "execution_count": 5,
     "metadata": {},
     "output_type": "execute_result"
    }
   ],
   "source": [
    "# Learn equations\n",
    "model = PySRRegressor(\n",
    "    niterations=30,\n",
    "    binary_operators=[\"plus\", \"mult\"],\n",
    "    unary_operators=[\"cos\", \"exp\", \"sin\"],\n",
    "    **default_pysr_params\n",
    ")\n",
    "\n",
    "model.fit(X, y)"
   ]
  },
  {
   "cell_type": "markdown",
   "id": "741106c5-d279-4567-9c92-321c9de3a78e",
   "metadata": {},
   "source": [
    "Here we see that the regressor correctly picks the training equation: $y = -2 + x_{0}^2 + \\cos 2.5382 x_{3}$\n",
    "\n",
    "We can also print out the functional representation using `sympy` and choosing the equation index."
   ]
  },
  {
   "cell_type": "code",
   "execution_count": 7,
   "id": "0dcae8ec-d76d-4792-8bcf-4824f6db3c7c",
   "metadata": {},
   "outputs": [
    {
     "data": {
      "text/latex": [
       "$\\displaystyle x_{0}^{2} + 2.5382 \\cos{\\left(x_{3} \\right)} - 2.0$"
      ],
      "text/plain": [
       "x0**2 + 2.5382*cos(x3) - 2.0"
      ]
     },
     "execution_count": 7,
     "metadata": {},
     "output_type": "execute_result"
    }
   ],
   "source": [
    "model.sympy(6)"
   ]
  },
  {
   "cell_type": "code",
   "execution_count": null,
   "id": "74257b13-5469-4ad5-b29b-f9c097e14710",
   "metadata": {},
   "outputs": [],
   "source": []
  },
  {
   "cell_type": "code",
   "execution_count": null,
   "id": "27b1f4e4-acad-4062-892e-c322a5f382e6",
   "metadata": {},
   "outputs": [],
   "source": []
  },
  {
   "cell_type": "code",
   "execution_count": null,
   "id": "37ca2953-e46a-4116-917a-d189523b24b3",
   "metadata": {},
   "outputs": [],
   "source": []
  }
 ],
 "metadata": {
  "kernelspec": {
   "display_name": "Python 3 (ipykernel)",
   "language": "python",
   "name": "python3"
  },
  "language_info": {
   "codemirror_mode": {
    "name": "ipython",
    "version": 3
   },
   "file_extension": ".py",
   "mimetype": "text/x-python",
   "name": "python",
   "nbconvert_exporter": "python",
   "pygments_lexer": "ipython3",
   "version": "3.8.16"
  }
 },
 "nbformat": 4,
 "nbformat_minor": 5
}
