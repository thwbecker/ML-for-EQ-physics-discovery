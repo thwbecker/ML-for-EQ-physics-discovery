{
 "cells": [
  {
   "cell_type": "markdown",
   "id": "97810080-6fec-4b6c-90c1-50c86a976ff7",
   "metadata": {},
   "source": [
    "# pysr tutorial, from cosine to rate state friction\n",
    "\n",
    "In this tutorial we are going to go through first steps of symbolic regression using `pysr`. First we will use a basic example for a cosine function. Then we will use a rate and state friction model. Along the way we will explain how pysr arrives at the functional solution.\n",
    "\n",
    "Some of this comes from the original tutorial provided by `pysr` which can be found on google colab:\n",
    "\n",
    "https://colab.research.google.com/github/MilesCranmer/PySR/blob/master/examples/pysr_demo.ipynb#scrollTo=4nDAAnisdhTc"
   ]
  },
  {
   "cell_type": "code",
   "execution_count": 2,
   "id": "0cec2d79-7ff8-4518-b910-5eb355bce72f",
   "metadata": {},
   "outputs": [],
   "source": [
    "%matplotlib inline\n",
    "import matplotlib.pyplot as plt\n",
    "import numpy as np\n",
    "from pysr import PySRRegressor\n",
    "from sklearn.model_selection import train_test_split"
   ]
  },
  {
   "cell_type": "code",
   "execution_count": 3,
   "id": "d4674bc9-9d1f-4e08-b78e-040d01ee01f7",
   "metadata": {},
   "outputs": [],
   "source": [
    "# Dataset\n",
    "np.random.seed(0)\n",
    "X = 2 * np.random.randn(100, 5)\n",
    "x3 = X[:, 3]\n",
    "x0 = X[:, 0]\n",
    "# y = 2.5382 * np.cos(X[:, 3]) + X[:, 0] ** 2 - 2\n",
    "y = 2.5382 * np.cos(x3) + x0 ** 2 - 2"
   ]
  },
  {
   "cell_type": "markdown",
   "id": "ca37f89a-8cb8-42b6-8701-5d7d7c97c6ef",
   "metadata": {},
   "source": [
    "# explanation how the model works\n",
    "\n",
    "Below we create a dictionary of the paramaters we want to use in the model.\n",
    "\n",
    "By default, `populations=15`, but you can set a different number of populations with this option. More populations may increase the diversity of equations discovered, though will take longer to train. However, it is usually more efficient to have `populations>procs`, as there are multiple populations running on each core.\n",
    "\n",
    "By default, PySRRegressor uses `model_selection='best'` which selects an equation from `PySRRegressor.equations_` using a combination of accuracy and complexity. You can also select `model_selection='accuracy'`.\n",
    "\n",
    "* How is accuracy calculated?\n",
    "* How is complexity calculated?"
   ]
  },
  {
   "cell_type": "code",
   "execution_count": 4,
   "id": "f2cc6606-ee22-4d6b-8cc1-7d2af70677a5",
   "metadata": {},
   "outputs": [],
   "source": [
    "default_pysr_params = dict(\n",
    "    populations=30, # https://astroautomata.com/PySR/options/#populations\n",
    "    model_selection=\"best\",\n",
    ")"
   ]
  },
  {
   "cell_type": "markdown",
   "id": "95d9c282-540c-43e0-99e2-3b347730b6f4",
   "metadata": {},
   "source": [
    "Now we can fit the model. The process works essentially the same as a `sklearn` model. First you create the model object with it's set of hyperparameters. Then you fit the model. Keep in mind that unlike `sklearn`, which is creating a single model, a `PySR` model is technically an ensemble of linear regression models (in the statistical sense, that is, a linear combination of variables as opposed to, for example, a decision tree).\n",
    "\n",
    "`PySR` can run for arbitrarily long, and continue to find more and more accurate expressions. You can set the total number of cycles of evolution with `niterations`, although there are also a few more ways to stop execution.\n",
    "\n",
    "Binary operators are operators that include any form of combination, such as `A + B` or `A * B`. https://en.wikipedia.org/wiki/Binary_operation\n",
    "\n",
    "Unary operators are operators that perform a transformation, as as `sin(x)` or `abs(x)` or `-(x)`."
   ]
  },
  {
   "cell_type": "code",
   "execution_count": null,
   "id": "77508e3a-9189-47c6-bb37-6da03cddd03e",
   "metadata": {},
   "outputs": [
    {
     "name": "stderr",
     "output_type": "stream",
     "text": [
      "/opt/homebrew/anaconda3/envs/symbol/lib/python3.8/site-packages/pysr/sr.py:1296: UserWarning: Note: it looks like you are running in Jupyter. The progress bar will be turned off.\n",
      "  warnings.warn(\n"
     ]
    }
   ],
   "source": [
    "# Learn equations\n",
    "model = PySRRegressor(\n",
    "    niterations=30,\n",
    "    binary_operators=[\"plus\", \"mult\"],\n",
    "    unary_operators=[\"cos\", \"exp\", \"sin\"],\n",
    "    **default_pysr_params\n",
    ")\n",
    "\n",
    "model.fit(X, y)"
   ]
  },
  {
   "cell_type": "code",
   "execution_count": null,
   "id": "ee52f7c8-4ede-4fc7-85c5-146ecaa9a05e",
   "metadata": {},
   "outputs": [],
   "source": []
  }
 ],
 "metadata": {
  "kernelspec": {
   "display_name": "Python 3 (ipykernel)",
   "language": "python",
   "name": "python3"
  },
  "language_info": {
   "codemirror_mode": {
    "name": "ipython",
    "version": 3
   },
   "file_extension": ".py",
   "mimetype": "text/x-python",
   "name": "python",
   "nbconvert_exporter": "python",
   "pygments_lexer": "ipython3",
   "version": "3.8.16"
  }
 },
 "nbformat": 4,
 "nbformat_minor": 5
}
